{
 "cells": [
  {
   "attachments": {},
   "cell_type": "markdown",
   "metadata": {},
   "source": [
    "# Ensemble\n",
    "- 기본적으로 두 모델(파일)을 앙상블해서 최종 결과를 출력한다."
   ]
  },
  {
   "cell_type": "code",
   "execution_count": null,
   "metadata": {},
   "outputs": [],
   "source": [
    "import os\n",
    "import pandas as pd\n",
    "import csv\n",
    "from datetime import datetime\n",
    "import pytz"
   ]
  },
  {
   "cell_type": "code",
   "execution_count": null,
   "metadata": {},
   "outputs": [],
   "source": [
    "def korea_date_time():\n",
    "        \"\"\"\n",
    "        Retrieves the current date and time in the Korea Standard Time (KST) timezone.\n",
    "\n",
    "        Returns:\n",
    "            str: The current date and time formatted as 'YYYY-MM-DD_HH:MM:SS' in KST.\n",
    "        \"\"\"\n",
    "        korea_timezone = pytz.timezone(\"Asia/Seoul\")\n",
    "        date_time = datetime.now(tz=korea_timezone)\n",
    "        date_time = date_time.strftime(\"%Y-%m-%d_%H:%M:%S\")\n",
    "        \n",
    "        return date_time"
   ]
  },
  {
   "attachments": {},
   "cell_type": "markdown",
   "metadata": {},
   "source": [
    "## 두 파일을 읽어와 상위 m개와 상위 10-m개를 겹치지 않게 앙상블해서 최종 출력을 생성\n",
    "### 주의사항: 입력되는 두 파일은 예측값이 높은 순서대로 저장되어 있어야 한다."
   ]
  },
  {
   "cell_type": "code",
   "execution_count": null,
   "metadata": {},
   "outputs": [],
   "source": [
    "def ensemble_top_rating(main_df: pd.DataFrame, sub_df: pd.DataFrame, using_topk: int) -> None:\n",
    "    \"\"\"\n",
    "    Ensemble the top ratings from main_df and additional ratings from sub_df,\n",
    "    based on the specified number (using_topk) of top ratings to consider.\n",
    "\n",
    "    Args:\n",
    "        main_df (pd.DataFrame): The main DataFrame containing ratings.\n",
    "        sub_df (pd.DataFrame): The additional DataFrame containing ratings.\n",
    "        using_topk (int): The number of top ratings to consider from main_df.\n",
    "\n",
    "    Returns:\n",
    "        None. Saves the ensemble result to a CSV file.\n",
    "\n",
    "    Raises:\n",
    "        AssertionError: If using_topk is not an integer or falls outside the range of 0 to 10 (inclusive).\n",
    "    \"\"\"\n",
    "    assert isinstance(using_topk, int) and 0 <= using_topk <= 10, \"using_topk should be an integer between 0 and 10 (inclusive)\"\n",
    "\n",
    "    # Select the top ratings from main_df\n",
    "    main_df = main_df.groupby('user').head(using_topk)\n",
    "\n",
    "    # Select additional ratings from sub_df that are not present in main_df\n",
    "    sub_df = pd.merge(main_df, sub_df, how='outer', indicator=True).query('_merge == \"right_only\"').drop(columns=['_merge'])\n",
    "    sub_df = sub_df.groupby('user').head(10 - using_topk)\n",
    "\n",
    "    # Concatenate main_df and sub_df\n",
    "    output = pd.concat([main_df, sub_df])\n",
    "    output = output.sort_values('user')\n",
    "\n",
    "    # Create the output folder\n",
    "    output_folder = '../output'\n",
    "    os.makedirs(output_folder, exist_ok=True)\n",
    "\n",
    "    # Save the ensemble result to a CSV file\n",
    "    date_time = korea_date_time()\n",
    "    file_name = f'{output_folder}/ensemble-{date_time}.csv'\n",
    "    output.to_csv(file_name, index=False)\n",
    "\n",
    "    print(f\"{file_name} is successfully saved!\")\n"
   ]
  },
  {
   "cell_type": "code",
   "execution_count": null,
   "metadata": {},
   "outputs": [],
   "source": [
    "output1 = pd.read_csv('../output/output1.csv') \n",
    "output2 = pd.read_csv('../output/output2.csv') \n",
    "using_topk = 5\n",
    "ensemble_top_rating(output1, output2, using_topk)"
   ]
  },
  {
   "attachments": {},
   "cell_type": "markdown",
   "metadata": {},
   "source": [
    "## 상호작용한 횟수를 기준으로 유저를 나눠서 다른 모델을 적용!"
   ]
  },
  {
   "cell_type": "code",
   "execution_count": null,
   "metadata": {},
   "outputs": [],
   "source": [
    "def ensemble_interaction(train_df: pd.DataFrame, less_df: pd.DataFrame, much_df: pd.DataFrame, num_interaction: int) -> None:\n",
    "    \"\"\"\n",
    "    Perform ensemble interaction based on the number of interactions for each user,\n",
    "    concatenate the resulting DataFrames, and save the output to a CSV file.\n",
    "\n",
    "    Args:\n",
    "        train_df (pd.DataFrame): DataFrame containing training data.\n",
    "        less_df (pd.DataFrame): DataFrame containing results of models that behave well for data with less interaction.\n",
    "        much_df (pd.DataFrame): DataFrame containing results of models tthat behave well for data with a lot of interaction.\n",
    "        num_interaction (int): Threshold for the number of interactions to split the users.\n",
    "\n",
    "    Returns:\n",
    "        None\n",
    "    \"\"\"\n",
    "    \n",
    "    grouped = train_df.groupby('user').size().reset_index(name='num_inter')\n",
    "\n",
    "    split_under = grouped[grouped['num_inter'] <= num_interaction]['user'].values.tolist()\n",
    "\n",
    "    split_over = grouped[grouped['num_inter'] > num_interaction]['user'].values.tolist()\n",
    "\n",
    "    less_df = less_df[less_df['user'].isin(split_under)]\n",
    "\n",
    "    much_df = much_df[much_df['user'].isin(split_over)]\n",
    "\n",
    "    output = pd.concat([less_df, much_df])\n",
    "    output.sort_index()\n",
    "\n",
    "    # Create the output folder\n",
    "    output_folder = '../output'\n",
    "    os.makedirs(output_folder, exist_ok=True)\n",
    "\n",
    "    date_time = korea_date_time()\n",
    "    file_name = f'{output_folder}/ensemble-{date_time}.csv'\n",
    "    output.to_csv(file_name, index=False)\n",
    "\n",
    "    print(f\"{file_name} is successfully saved!\")\n"
   ]
  },
  {
   "cell_type": "code",
   "execution_count": null,
   "metadata": {},
   "outputs": [],
   "source": [
    "#전체 훈련 데이터와 앙상블할 파일을 읽어온다.\n",
    "train_df = pd.read_csv('../data/train/train_ratings.csv')\n",
    "output1 = pd.read_csv('../output/output1.csv') #cold-start에 강한 모델 사용\n",
    "output2 = pd.read_csv('../output/output2.csv') #sequential하거나 정보가 많을 때 효과적인 모델 사용\n",
    "\n",
    "split_num = [114, 265, 499, 749] #상호작용 횟수 기준\n",
    "\n",
    "ensemble_interaction(train_df, output1, output2, split_num[2])"
   ]
  },
  {
   "attachments": {},
   "cell_type": "markdown",
   "metadata": {},
   "source": [
    "# 기타 함수들"
   ]
  },
  {
   "cell_type": "code",
   "execution_count": null,
   "metadata": {},
   "outputs": [],
   "source": [
    "#앙상블 파일 중복 확인\n",
    "def check_duplicates(df, lst):\n",
    "    duplicates = df[df.duplicated(subset=lst)]\n",
    "\n",
    "    if duplicates.empty:\n",
    "        print('중복된 데이터가 없습니다.')\n",
    "    else:\n",
    "        print('중복된 데이터:')\n",
    "        print(duplicates)\n",
    "\n",
    "df = pd.read_csv('')\n",
    "check_duplicates(df, ['user', 'item'])"
   ]
  }
 ],
 "metadata": {
  "kernelspec": {
   "display_name": "base",
   "language": "python",
   "name": "python3"
  },
  "language_info": {
   "codemirror_mode": {
    "name": "ipython",
    "version": 3
   },
   "file_extension": ".py",
   "mimetype": "text/x-python",
   "name": "python",
   "nbconvert_exporter": "python",
   "pygments_lexer": "ipython3",
   "version": "3.9.0"
  },
  "orig_nbformat": 4
 },
 "nbformat": 4,
 "nbformat_minor": 2
}
