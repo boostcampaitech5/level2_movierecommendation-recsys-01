{
 "cells": [
  {
   "cell_type": "code",
   "execution_count": 79,
   "metadata": {},
   "outputs": [],
   "source": [
    "import os\n",
    "import pandas as pd\n",
    "from surprise import SVD\n",
    "from surprise import Dataset\n",
    "from surprise import Reader\n",
    "from surprise.model_selection import cross_validate\n",
    "import numpy as np\n",
    "from scipy.sparse import csr_matrix\n",
    "from datetime import datetime\n",
    "import pytz\n",
    "import csv"
   ]
  },
  {
   "attachments": {},
   "cell_type": "markdown",
   "metadata": {},
   "source": [
    "## user, item matrix 생성 및 index 저장"
   ]
  },
  {
   "cell_type": "code",
   "execution_count": 81,
   "metadata": {},
   "outputs": [],
   "source": [
    "train_df = pd.read_csv('/opt/ml/input/junwon/data/train/train_ratings.csv')\n",
    "\n",
    "# 유니크한 유저와 아이템 목록 추출\n",
    "users = train_df['user'].unique()\n",
    "items = train_df['item'].unique()\n",
    "\n",
    "# 유저와 아이템의 인덱스 매핑 생성\n",
    "user_index = {user: i for i, user in enumerate(users)}\n",
    "item_index = {item: i for i, item in enumerate(items)}\n",
    "\n",
    "# 행렬 생성\n",
    "row_indices = train_df['user'].map(user_index)\n",
    "col_indices = train_df['item'].map(item_index)\n",
    "values = np.ones(len(train_df))\n",
    "matrix = csr_matrix((values, (row_indices, col_indices)), shape=(len(users), len(items)))\n",
    "\n",
    "# user와 item 값을 그대로 사용하기 위해 인덱스를 역으로 매핑하여 딕셔너리 생성\n",
    "index_to_user = {i: user for user, i in user_index.items()}\n",
    "index_to_item = {i: item for item, i in item_index.items()}"
   ]
  },
  {
   "attachments": {},
   "cell_type": "markdown",
   "metadata": {},
   "source": [
    "## MF with SVD "
   ]
  },
  {
   "attachments": {},
   "cell_type": "markdown",
   "metadata": {},
   "source": [
    "### Train"
   ]
  },
  {
   "cell_type": "code",
   "execution_count": 82,
   "metadata": {},
   "outputs": [],
   "source": [
    "# Adding a new column 'raing' with values initialized to 1\n",
    "train_df['raing'] = 1\n",
    "\n",
    "reader = Reader(rating_scale=(0, 1))\n",
    "data = Dataset.load_from_df(train_df[['user', 'item', 'raing']], reader)\n",
    "\n",
    "# Use SVD algorithm with default hyperparameters\n",
    "algo = SVD()\n",
    "\n",
    "# Evaluate the performance of the algorithm using cross validation\n",
    "cross_validate(algo, data, measures=['RMSE'], cv=5, verbose=True)\n",
    "\n",
    "# Train the model on the entire dataset\n",
    "trainset = data.build_full_trainset()\n",
    "algo.fit(trainset)"
   ]
  },
  {
   "attachments": {},
   "cell_type": "markdown",
   "metadata": {},
   "source": [
    "### Inference"
   ]
  },
  {
   "cell_type": "code",
   "execution_count": null,
   "metadata": {},
   "outputs": [
    {
     "name": "stdout",
     "output_type": "stream",
     "text": [
      "User matrix shape: (31360, 100)\n",
      "Item matrix shape: (6807, 100)\n"
     ]
    }
   ],
   "source": [
    "# Get the learned user and item matrices\n",
    "user_matrix = algo.pu\n",
    "item_matrix = algo.qi\n",
    "\n",
    "# Print the shape of the user matrix\n",
    "print(\"User matrix shape:\", user_matrix.shape)\n",
    "\n",
    "# Print the shape of the item matrix\n",
    "print(\"Item matrix shape:\", item_matrix.shape)"
   ]
  },
  {
   "cell_type": "code",
   "execution_count": 71,
   "metadata": {},
   "outputs": [],
   "source": [
    "result = user_matrix@item_matrix.T"
   ]
  },
  {
   "cell_type": "code",
   "execution_count": 72,
   "metadata": {},
   "outputs": [
    {
     "data": {
      "text/plain": [
       "array([[       -inf,        -inf,        -inf, ..., -0.00720431,\n",
       "        -0.0503347 , -0.01099133],\n",
       "       [-0.00461095, -0.00075128, -0.00804032, ..., -0.09922199,\n",
       "         0.11263872,  0.02426618],\n",
       "       [ 0.00344952,  0.00143465, -0.00616828, ..., -0.13241257,\n",
       "         0.02637532, -0.06163633],\n",
       "       ...,\n",
       "       [-0.00293851,  0.00591415, -0.00017686, ...,  0.03608433,\n",
       "        -0.01298933,  0.07074937],\n",
       "       [-0.00187018,  0.00817371, -0.00275791, ...,  0.1104404 ,\n",
       "         0.05940141, -0.11123025],\n",
       "       [       -inf,  0.00161238,  0.00273885, ...,  0.01533187,\n",
       "        -0.00242231,  0.0190496 ]])"
      ]
     },
     "execution_count": 72,
     "metadata": {},
     "output_type": "execute_result"
    }
   ],
   "source": [
    "result[matrix.nonzero()] = -np.inf\n",
    "result"
   ]
  },
  {
   "cell_type": "code",
   "execution_count": 73,
   "metadata": {},
   "outputs": [],
   "source": [
    "# 유저별 상위 10개의 값을 저장\n",
    "recommend_list=[]\n",
    "for i in range(len(result)):\n",
    "    sorted_indices = np.argsort(-result[i])\n",
    "    for j in range(10):\n",
    "        recommend_list.append((index_to_user[i],index_to_item[sorted_indices[j]]))"
   ]
  },
  {
   "cell_type": "code",
   "execution_count": 77,
   "metadata": {},
   "outputs": [
    {
     "name": "stdout",
     "output_type": "stream",
     "text": [
      "Recommendations saved to 'output/output_2023-06-16_12:20:33.csv'\n"
     ]
    }
   ],
   "source": [
    "# output 폴더 생성\n",
    "output_folder = 'output'\n",
    "os.makedirs(output_folder, exist_ok=True)\n",
    "\n",
    "def korea_date_time():\n",
    "    \"\"\"\n",
    "    Retrieves the current date and time in the Korea Standard Time (KST) timezone.\n",
    "\n",
    "    Returns:\n",
    "        str: The current date and time formatted as 'YYYY-MM-DD_HH:MM:SS' in KST.\n",
    "    \"\"\"\n",
    "    korea_timezone = pytz.timezone(\"Asia/Seoul\")\n",
    "    date_time = datetime.now(tz=korea_timezone)\n",
    "    date_time = date_time.strftime(\"%Y-%m-%d_%H:%M:%S\")\n",
    "    \n",
    "    return date_time\n",
    "\n",
    "date_time = korea_date_time()\n",
    "\n",
    "# CSV 파일에 데이터 저장\n",
    "filename = filename = os.path.join(output_folder, f'output_{date_time}.csv')\n",
    "with open(filename, 'w', newline='') as csvfile:\n",
    "    writer = csv.writer(csvfile)\n",
    "    writer.writerow(['user', 'item'])  # 컬럼명 추가\n",
    "    writer.writerows(recommend_list)  # 데이터 추가\n",
    "\n",
    "print(f\"Recommendations saved to '{filename}'\")"
   ]
  },
  {
   "attachments": {},
   "cell_type": "markdown",
   "metadata": {},
   "source": [
    "### 결과\n",
    "- Top-K 예측은 거의 되지 않음."
   ]
  }
 ],
 "metadata": {
  "kernelspec": {
   "display_name": "base",
   "language": "python",
   "name": "python3"
  },
  "language_info": {
   "codemirror_mode": {
    "name": "ipython",
    "version": 3
   },
   "file_extension": ".py",
   "mimetype": "text/x-python",
   "name": "python",
   "nbconvert_exporter": "python",
   "pygments_lexer": "ipython3",
   "version": "3.8.5"
  },
  "orig_nbformat": 4
 },
 "nbformat": 4,
 "nbformat_minor": 2
}
